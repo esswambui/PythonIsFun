{
  "nbformat": 4,
  "nbformat_minor": 0,
  "metadata": {
    "colab": {
      "name": "dicegame.ipynb",
      "provenance": [],
      "collapsed_sections": [],
      "authorship_tag": "ABX9TyNIRIpwG/Mo3KTQAqIBoyoF",
      "include_colab_link": true
    },
    "kernelspec": {
      "name": "python3",
      "display_name": "Python 3"
    },
    "language_info": {
      "name": "python"
    }
  },
  "cells": [
    {
      "cell_type": "markdown",
      "metadata": {
        "id": "view-in-github",
        "colab_type": "text"
      },
      "source": [
        "<a href=\"https://colab.research.google.com/github/esswambui/PythonIsFun/blob/main/dicegame.ipynb\" target=\"_parent\"><img src=\"https://colab.research.google.com/assets/colab-badge.svg\" alt=\"Open In Colab\"/></a>"
      ]
    },
    {
      "cell_type": "code",
      "metadata": {
        "id": "Dey4LqLuMxKM",
        "colab": {
          "base_uri": "https://localhost:8080/"
        },
        "outputId": "7cddc952-2b33-4492-9e7d-78c8382dbad0"
      },
      "source": [
        "import random #python library to generate random numbers\n",
        "\n",
        "#number of possible winning numbers\n",
        "possible_number = random.randint (1, 6) \n",
        "#ultimate winning number\n",
        "winning_number = 6\n",
        "\n",
        "#number of chances to play\n",
        "guesses = 0\n",
        "\n",
        "print(\"Let's roll the Dice!\")\n",
        "\n",
        "\n",
        "#start the loop\n",
        "while guesses <= 5:\n",
        "  #ask for input\n",
        "  user_guess = int(input(\"What number are you thinking of?:\"))\n",
        "  #increment no. of guesses\n",
        "  guesses = guesses + 1\n",
        " \n",
        "  if user_guess > 6:\n",
        "        print(\"Number not valid!\")\n",
        "        break\n",
        "  elif user_guess > possible_number:\n",
        "        print(\"Sorry number is too big\")\n",
        "  elif user_guess < possible_number:\n",
        "        print(\"Sorry number is too small.\")\n",
        "  elif user_guess == possible_number:\n",
        "    print(\"Your dice number is \" + str(possible_number) + \" with \"+ str(guesses) + \" guess(es)\")\n",
        "    if user_guess == winning_number:\n",
        "      print(\"You win with \"+ str(guesses) + \" guesses\")\n",
        "      break\n",
        "    else:\n",
        "      break\n",
        "  \n",
        "  print(\"Try again\")\n",
        "\n",
        "print(\"Game over!\")\n",
        "\n"
      ],
      "execution_count": 20,
      "outputs": [
        {
          "output_type": "stream",
          "text": [
            "Let's roll the Dice!\n",
            "What number are you thinking of?:-2\n",
            "Sorry number is too small.\n",
            "Try again\n",
            "What number are you thinking of?:2\n",
            "Sorry number is too small.\n",
            "Try again\n",
            "What number are you thinking of?:6\n",
            "Sorry number is too big\n",
            "Try again\n",
            "What number are you thinking of?:4\n",
            "Your dice number is 4 with 5 guess(es)\n",
            "Game over!\n"
          ],
          "name": "stdout"
        }
      ]
    }
  ]
}
