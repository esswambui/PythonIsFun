{
  "nbformat": 4,
  "nbformat_minor": 0,
  "metadata": {
    "colab": {
      "name": "Untitled5.ipynb",
      "provenance": [],
      "authorship_tag": "ABX9TyNVYFrjy1vpCbmog4GirpAS",
      "include_colab_link": true
    },
    "kernelspec": {
      "name": "python3",
      "display_name": "Python 3"
    },
    "language_info": {
      "name": "python"
    }
  },
  "cells": [
    {
      "cell_type": "markdown",
      "metadata": {
        "id": "view-in-github",
        "colab_type": "text"
      },
      "source": [
        "<a href=\"https://colab.research.google.com/github/esswambui/PythonIsFun/blob/main/dicegame.ipynb\" target=\"_parent\"><img src=\"https://colab.research.google.com/assets/colab-badge.svg\" alt=\"Open In Colab\"/></a>"
      ]
    },
    {
      "cell_type": "code",
      "metadata": {
        "colab": {
          "base_uri": "https://localhost:8080/"
        },
        "id": "Dey4LqLuMxKM",
        "outputId": "9d8b9566-4433-42cf-8d5e-07a5526d2999"
      },
      "source": [
        "import random #python library to generate random numbers\n",
        "\n",
        "#number of possible winning numbers\n",
        "possible_number = random.randint (1, 6) \n",
        "#ultimate winning number\n",
        "winning_number = 6\n",
        "\n",
        "#number of chances to play\n",
        "guesses = 0\n",
        "\n",
        "print(\"Let's roll the Dice!\")\n",
        "\n",
        "keep_playing = True\n",
        "\n",
        "#start the loop\n",
        "while guesses <= 5:\n",
        "  #ask for input\n",
        "  user_guess = int(input(\"What number are you thinking of?:\"))\n",
        "  #increment no. of guesses\n",
        "  guesses = guesses + 1\n",
        " \n",
        "  if user_guess > 6:\n",
        "        print(\"Number not valid!\")\n",
        "        break\n",
        "  elif user_guess > possible_number:\n",
        "        print(\"Sorry number is too big\")\n",
        "  elif user_guess < possible_number:\n",
        "        print(\"Sorry number is too small.\")\n",
        "  elif user_guess == possible_number:\n",
        "    print(\"Your dice number is \" + str(possible_number) + \" with \"+ str(guesses) + \" guess(es)\")\n",
        "    if user_guess == winning_number:\n",
        "      print(\"You win with \"+ str(guesses) + \" guesses\")\n",
        "      break\n",
        "    else:\n",
        "      break\n",
        "  \n",
        "  print(\"Try again\")\n",
        "\n",
        "print(\"Game over!\")\n",
        "\n"
      ],
      "execution_count": null,
      "outputs": [
        {
          "output_type": "stream",
          "text": [
            "Let's roll the Dice!\n"
          ],
          "name": "stdout"
        }
      ]
    }
  ]
}