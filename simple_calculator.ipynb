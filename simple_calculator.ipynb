{
  "nbformat": 4,
  "nbformat_minor": 0,
  "metadata": {
    "colab": {
      "name": "simple_calculator.ipynb",
      "provenance": [],
      "authorship_tag": "ABX9TyOvCBuN4EEuIoII2qEnb9Qx"
    },
    "kernelspec": {
      "name": "python3",
      "display_name": "Python 3"
    },
    "language_info": {
      "name": "python"
    }
  },
  "cells": [
    {
      "cell_type": "code",
      "metadata": {
        "id": "AjURF_847JB8"
      },
      "source": [
        "num1 = int (input (\"Enter number: \"))\n",
        "operator =  (input (\"Enter operator: \"))\n",
        "num2 = int (input (\"Enter number: \"))\n",
        "\n",
        "if operator == \"+\":\n",
        "    print (num1 + num2)\n",
        "elif operator == \"-\":\n",
        "    print (num1 - num2)\n",
        "elif operator ==\"/\":\n",
        "     print (num1 / num2)\n",
        "elif operator == \"//\":\n",
        "    print (num1 // num2)\n",
        "elif operator == \"*\":\n",
        "    print (num1 * num2)\n",
        "elif operator == \"%\":\n",
        "    print (num1 % num2)\n",
        "elif operator == \"&\":\n",
        "    print (num1 & num2)\n",
        "elif operator == \"|\":\n",
        "    print (num1 | num2)\n",
        "elif operator == \"^\":\n",
        "    print (num1 ^ num2)"
      ],
      "execution_count": null,
      "outputs": []
    }
  ]
}